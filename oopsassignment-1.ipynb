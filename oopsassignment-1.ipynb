{
 "cells": [
  {
   "cell_type": "code",
   "execution_count": 1,
   "id": "3ada9a6a-33fb-4152-9dd7-529d5011637e",
   "metadata": {},
   "outputs": [],
   "source": [
    "#Q1. Explain Class and Object with respect to Object-Oriented Programming. Give a suitable example.\n"
   ]
  },
  {
   "cell_type": "code",
   "execution_count": 7,
   "id": "0a503cb3-2243-43d1-96f7-7d7c7eb6229c",
   "metadata": {},
   "outputs": [],
   "source": [
    "class Car:\n",
    "    def __init__(self, make, model, year, color):\n",
    "        self.make = make\n",
    "        self.model = model\n",
    "        self.year = year\n",
    "        self.color = color\n",
    "\n",
    "    def start_engine(self):\n",
    "        print(\"The engine is starting...\")\n",
    "\n",
    "    def accelerate(self):\n",
    "        print(\"The car is accelerating...\")\n",
    "\n",
    "    def brake(self):\n",
    "        print(\"The car is braking...\")"
   ]
  },
  {
   "cell_type": "code",
   "execution_count": 8,
   "id": "95d8ca7a-794e-40a3-8053-b8d7046badf9",
   "metadata": {},
   "outputs": [],
   "source": [
    "my_car = Car(\"Toyota\", \"Corolla\", 2020, \"blue\")\n"
   ]
  },
  {
   "cell_type": "code",
   "execution_count": 9,
   "id": "fc3203eb-37f7-47b4-8ed2-7eca14866927",
   "metadata": {},
   "outputs": [],
   "source": [
    "#Q2. Name the four pillars of OOPs."
   ]
  },
  {
   "cell_type": "code",
   "execution_count": 10,
   "id": "64d5d44c-73db-42f8-96f1-12dfb1e44f83",
   "metadata": {},
   "outputs": [],
   "source": [
    "##encapsulation , inheritance , polymorphism , abstraction,"
   ]
  },
  {
   "cell_type": "code",
   "execution_count": 11,
   "id": "774fe151-ea6a-4f0a-8713-c7edcb57bb1a",
   "metadata": {},
   "outputs": [],
   "source": [
    "##Q3. Explain why the __init__() function is used. Give a suitable example."
   ]
  },
  {
   "cell_type": "code",
   "execution_count": 12,
   "id": "08f2993f-f9ac-491e-a483-cb0ef995d52f",
   "metadata": {},
   "outputs": [
    {
     "name": "stdout",
     "output_type": "stream",
     "text": [
      "50\n"
     ]
    }
   ],
   "source": [
    "class Rectangle:\n",
    "    def __init__(self, width, height):\n",
    "        self.width = width\n",
    "        self.height = height\n",
    "\n",
    "    def area(self):\n",
    "        return self.width * self.height\n",
    "\n",
    "rectangle = Rectangle(5, 10)\n",
    "print(rectangle.area())  # Output: 50"
   ]
  },
  {
   "cell_type": "code",
   "execution_count": 13,
   "id": "871ae717-ce14-439a-a6cf-94aebf2fabbf",
   "metadata": {},
   "outputs": [],
   "source": [
    "#Q4. Why self is used in OOPs?"
   ]
  },
  {
   "cell_type": "code",
   "execution_count": 14,
   "id": "5b3bb8f1-467b-44cb-9147-ba3ee339b2a1",
   "metadata": {},
   "outputs": [
    {
     "name": "stdout",
     "output_type": "stream",
     "text": [
      "Hello, my name is John and I am 30 years old.\n"
     ]
    }
   ],
   "source": [
    "class Person:\n",
    "    def __init__(self, name, age):\n",
    "        self.name = name\n",
    "        self.age = age\n",
    "\n",
    "    def greet(self):\n",
    "        print(f\"Hello, my name is {self.name} and I am {self.age} years old.\")\n",
    "\n",
    "person = Person(\"John\", 30)\n",
    "person.greet()  # Output: Hello, my name is John and I am 30 years old."
   ]
  },
  {
   "cell_type": "code",
   "execution_count": 15,
   "id": "ed1901f2-61af-487e-9c0a-9500081684f4",
   "metadata": {},
   "outputs": [],
   "source": [
    "#Q5. What is inheritance? Give an example for each type of inheritance."
   ]
  },
  {
   "cell_type": "code",
   "execution_count": 16,
   "id": "b012ce49-adb8-497a-a4d7-7d669c32c5b3",
   "metadata": {},
   "outputs": [
    {
     "name": "stdout",
     "output_type": "stream",
     "text": [
      "The dog barks\n"
     ]
    }
   ],
   "source": [
    "class Animal:\n",
    "    def sound(self):\n",
    "        print(\"The animal makes a sound\")\n",
    "\n",
    "class Dog(Animal):\n",
    "    def sound(self):\n",
    "        print(\"The dog barks\")\n",
    "\n",
    "dog = Dog()\n",
    "dog.sound()  # Output: The dog barks"
   ]
  },
  {
   "cell_type": "code",
   "execution_count": 17,
   "id": "324cfc36-eff2-4e62-a912-9b4c5538e655",
   "metadata": {},
   "outputs": [
    {
     "name": "stdout",
     "output_type": "stream",
     "text": [
      "I can fly\n",
      "I can feed my young\n"
     ]
    }
   ],
   "source": [
    "class Flyable:\n",
    "    def fly(self):\n",
    "        print(\"I can fly\")\n",
    "\n",
    "class Mammal:\n",
    "    def feed(self):\n",
    "        print(\"I can feed my young\")\n",
    "\n",
    "class Bat(Flyable, Mammal):\n",
    "    pass\n",
    "\n",
    "bat = Bat()\n",
    "bat.fly()  # Output: I can fly\n",
    "bat.feed()  # Output: I can feed my young"
   ]
  },
  {
   "cell_type": "code",
   "execution_count": 18,
   "id": "e2163367-64f4-44d2-97eb-37712f942547",
   "metadata": {},
   "outputs": [
    {
     "name": "stdout",
     "output_type": "stream",
     "text": [
      "I can move\n",
      "I can drive\n",
      "I can charge my battery\n"
     ]
    }
   ],
   "source": [
    "class Vehicle:\n",
    "    def move(self):\n",
    "        print(\"I can move\")\n",
    "\n",
    "class Car(Vehicle):\n",
    "    def drive(self):\n",
    "        print(\"I can drive\")\n",
    "\n",
    "class ElectricCar(Car):\n",
    "    def charge(self):\n",
    "        print(\"I can charge my battery\")\n",
    "\n",
    "electric_car = ElectricCar()\n",
    "electric_car.move()  # Output: I can move\n",
    "electric_car.drive()  # Output: I can drive\n",
    "electric_car.charge()  # Output: I can charge my battery"
   ]
  },
  {
   "cell_type": "code",
   "execution_count": null,
   "id": "c12cfbf6-b349-41d8-9dd5-e741e6066068",
   "metadata": {},
   "outputs": [],
   "source": []
  }
 ],
 "metadata": {
  "kernelspec": {
   "display_name": "Python 3 (ipykernel)",
   "language": "python",
   "name": "python3"
  },
  "language_info": {
   "codemirror_mode": {
    "name": "ipython",
    "version": 3
   },
   "file_extension": ".py",
   "mimetype": "text/x-python",
   "name": "python",
   "nbconvert_exporter": "python",
   "pygments_lexer": "ipython3",
   "version": "3.10.8"
  }
 },
 "nbformat": 4,
 "nbformat_minor": 5
}
